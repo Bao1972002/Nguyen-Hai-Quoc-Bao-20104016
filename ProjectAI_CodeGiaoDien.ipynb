{
  "nbformat": 4,
  "nbformat_minor": 0,
  "metadata": {
    "colab": {
      "provenance": [],
      "authorship_tag": "ABX9TyOb5hpppDJ3GMxOc++48PXn",
      "include_colab_link": true
    },
    "kernelspec": {
      "name": "python3",
      "display_name": "Python 3"
    },
    "language_info": {
      "name": "python"
    }
  },
  "cells": [
    {
      "cell_type": "markdown",
      "metadata": {
        "id": "view-in-github",
        "colab_type": "text"
      },
      "source": [
        "<a href=\"https://colab.research.google.com/github/Bao1972002/Nguyen-Hai-Quoc-Bao-20104016/blob/main/ProjectAI_CodeGiaoDien.ipynb\" target=\"_parent\"><img src=\"https://colab.research.google.com/assets/colab-badge.svg\" alt=\"Open In Colab\"/></a>"
      ]
    },
    {
      "cell_type": "code",
      "execution_count": null,
      "metadata": {
        "id": "txUSTV7uBEEp"
      },
      "outputs": [],
      "source": [
        "from tkinter import *\n",
        "from tkinter import filedialog as fd\n",
        "from PIL import Image, ImageTk\n",
        "import numpy as np\n",
        "from keras.utils import img_to_array,load_img\n",
        "from keras.models import load_model\n",
        "#Khai mở windown\n",
        "gui = Tk()\n",
        "gui.geometry('600x550')\n",
        "gui.title('Nhận diện sâu bệnh trên cây táo dại')\n",
        "def image():\n",
        "    global img\n",
        "    filename = fd.askopenfilename(initialdir=\"/images\",title='Chọn ảnh',filetypes=file_type)\n",
        "    url['text'] = filename\n",
        "    img = Image.open(filename)\n",
        "    img = img.resize((200,200))\n",
        "    img = ImageTk.PhotoImage(img)\n",
        "    show_image['image'] = img\n",
        "\n",
        "def predict():\n",
        "    label = ['scab','multiple_diseases','healthy','rust']\n",
        "    model = load_model('nhan_dien_benh_tren_cay_taodai.h5')\n",
        "    img= load_img(url.cget('text'),target_size=(200,200))\n",
        "    img=img_to_array(img)\n",
        "    img=img.astype('float32')\n",
        "    img=img.reshape(1,200,200,3)\n",
        "    img=img/255\n",
        "    a= int(np.argmax(model.predict(img),axis=1))\n",
        "    show_predict['text'] = label[a]\n",
        "\n",
        "\n",
        "file_type = [('Tất cả file','.*'),('Ảnh','.png')]\n",
        "title = Label(gui,text='Phần mền dự đoán sâu bệnh',font=(\"Arial Bold\",30),width=25)\n",
        "title.grid(row=0,column=0)\n",
        "url = Label(gui,font=(\"Arial Bold\",10),width=30)\n",
        "url.grid(row=2,column=0)\n",
        "button1 = Button(gui,text='Image selection',font=(\"Arial Bold\",20),width=20,command=image)\n",
        "button1.grid(row=4,column=0)\n",
        "button2 = Button(gui,text='Predict',font=(\"Arial Bold\",20),width=20,command=predict)\n",
        "button2.grid(row=5,column=0)\n",
        "show_image = Label(gui)\n",
        "show_image.grid(row=6,column=0)\n",
        "show_predict = Label(gui,font=(\"Arial Bold\",20),text='',width=20)\n",
        "show_predict.grid(row=8,column=0)\n",
        "\n",
        "gui.mainloop()\n"
      ]
    }
  ]
}